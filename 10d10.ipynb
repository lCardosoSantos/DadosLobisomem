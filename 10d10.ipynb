{
 "cells": [
  {
   "cell_type": "markdown",
   "metadata": {},
   "source": [
    "# Numero de falhas em uma bacia de dados.\n",
    "\n",
    "Eu estava pensando sobre isso uma boa parte da semana mas nao tive oportunidade de colocar meus pensamentos em forma escrita. Vou fazer isso agora.\n",
    "Afirmaçao: Rolar 10d10 vai causar um bug onde quase sempre tem um ou mais dados com 1, logo é melhor rodar como 4d10+3d10+3d10.\n",
    "\n",
    "## Hipotese 1\n",
    "_Isso é porque somos humanos e cerebros humanos sao muito ruins em estatistica._\n",
    "\n",
    "Probabilidade de rodar $X$ dados com um valor especifico, em um conjunto de $n$ dados com numero de faces reciprocal a probabilidade de cada face $p^{-1}$. Calular esse evento precisa usa probabilidade binomial. A formula entao é:\n",
    "\n",
    "$$P(X=k) = C^{n}_{k} \\times p^k \\times (1-p)^{n-k}$$"
   ]
  },
  {
   "cell_type": "markdown",
   "metadata": {},
   "source": [
    "# Rolagem de 10 dados"
   ]
  },
  {
   "cell_type": "code",
   "execution_count": 1,
   "metadata": {},
   "outputs": [
    {
     "name": "stdout",
     "output_type": "stream",
     "text": [
      "1 dados => 38.74204890%\n",
      "2 dados => 19.37102445%\n",
      "3 dados =>  5.73956280%\n",
      "4 dados =>  1.11602610%\n",
      "5 dados =>  0.14880348%\n",
      "6 dados =>  0.01377810%\n",
      "7 dados =>  0.00087480%\n",
      "8 dados =>  0.00003645%\n",
      "9 dados =>  0.00000090%\n"
     ]
    }
   ],
   "source": [
    "from math import comb, pow\n",
    "\n",
    "def prDadoEspecifico(n, x, d):\n",
    "    return comb(n, x) * pow((1/d), x) * pow((1 - 1/d), n-x)\n",
    "\n",
    "for i in range(1,10):\n",
    "    print(f\"{i} dados => {prDadoEspecifico(10, i, 10)*100:11.8f}%\")\n"
   ]
  },
  {
   "cell_type": "markdown",
   "metadata": {},
   "source": [
    "Essas sao probabilidades de um numero espeficico de dados sairem com 1. No nosso caso, estamos observando eventos onde temos 1, ou 2, ou 3, ou 4 dados com resultado um, o que é dado pelo acumulado da probabilidade."
   ]
  },
  {
   "cell_type": "code",
   "execution_count": 2,
   "metadata": {},
   "outputs": [
    {
     "name": "stdout",
     "output_type": "stream",
     "text": [
      "ao maximo 1 dados => 38.74204890%\n",
      "ao maximo 2 dados => 58.11307335%\n",
      "ao maximo 3 dados => 63.85263615%\n",
      "ao maximo 4 dados => 64.96866225%\n",
      "ao maximo 5 dados => 65.11746573%\n",
      "ao maximo 6 dados => 65.13124383%\n",
      "ao maximo 7 dados => 65.13211863%\n",
      "ao maximo 8 dados => 65.13215508%\n",
      "ao maximo 9 dados => 65.13215598%\n"
     ]
    }
   ],
   "source": [
    "acc = 0\n",
    "for i in range(1,10):\n",
    "    acc += prDadoEspecifico(10, i, 10)*100\n",
    "    print(f\"ao maximo {i} dados => {acc:11.8f}%\")\n"
   ]
  },
  {
   "cell_type": "markdown",
   "metadata": {},
   "source": [
    "# Rolagem de 6 dados"
   ]
  },
  {
   "cell_type": "code",
   "execution_count": 3,
   "metadata": {},
   "outputs": [
    {
     "name": "stdout",
     "output_type": "stream",
     "text": [
      "1 dados => 35.42940000%\n",
      "2 dados =>  9.84150000%\n",
      "3 dados =>  1.45800000%\n",
      "4 dados =>  0.12150000%\n",
      "5 dados =>  0.00540000%\n"
     ]
    }
   ],
   "source": [
    "from math import comb, pow\n",
    "\n",
    "def prDadoEspecifico(n, x, d):\n",
    "    return comb(n, x) * pow((1/d), x) * pow((1 - 1/d), n-x)\n",
    "\n",
    "for i in range(1,6):\n",
    "    print(f\"{i} dados => {prDadoEspecifico(6, i, 10)*100:11.8f}%\")\n"
   ]
  },
  {
   "cell_type": "code",
   "execution_count": 4,
   "metadata": {},
   "outputs": [
    {
     "name": "stdout",
     "output_type": "stream",
     "text": [
      "ao maximo 1 dados => 35.42940000%\n",
      "ao maximo 2 dados => 45.27090000%\n",
      "ao maximo 3 dados => 46.72890000%\n",
      "ao maximo 4 dados => 46.85040000%\n",
      "ao maximo 5 dados => 46.85580000%\n"
     ]
    }
   ],
   "source": [
    "acc = 0\n",
    "for i in range(1,6):\n",
    "    acc += prDadoEspecifico(6, i, 10)*100\n",
    "    print(f\"ao maximo {i} dados => {acc:11.8f}%\")\n"
   ]
  }
 ],
 "metadata": {
  "kernelspec": {
   "display_name": "Python 3",
   "language": "python",
   "name": "python3"
  },
  "language_info": {
   "codemirror_mode": {
    "name": "ipython",
    "version": 3
   },
   "file_extension": ".py",
   "mimetype": "text/x-python",
   "name": "python",
   "nbconvert_exporter": "python",
   "pygments_lexer": "ipython3",
   "version": "3.11.6"
  }
 },
 "nbformat": 4,
 "nbformat_minor": 2
}
